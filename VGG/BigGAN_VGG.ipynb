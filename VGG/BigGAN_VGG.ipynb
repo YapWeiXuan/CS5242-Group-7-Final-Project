{
 "cells": [
  {
   "cell_type": "code",
   "execution_count": 1,
   "id": "03dbfd15-40fc-45c1-b288-d931c3c576b9",
   "metadata": {
    "id": "03dbfd15-40fc-45c1-b288-d931c3c576b9",
    "tags": []
   },
   "outputs": [],
   "source": [
    "import torch\n",
    "import torchvision\n",
    "import torchvision.transforms as transforms\n",
    "import torch.nn as nn\n",
    "import torch.nn.functional as F\n",
    "import torch.optim as optim\n",
    "from datetime import datetime\n",
    "\n",
    "import PIL\n",
    "# Rmb to run \"pip install pillow\"\n",
    "# from ResNet import Bottleneck, ResNet, ResNet50"
   ]
  },
  {
   "cell_type": "code",
   "execution_count": 2,
   "id": "a9547f4d-8e25-421d-9348-8585fc3fc91b",
   "metadata": {
    "id": "a9547f4d-8e25-421d-9348-8585fc3fc91b",
    "tags": []
   },
   "outputs": [],
   "source": [
    "import os\n",
    "from os import listdir"
   ]
  },
  {
   "cell_type": "code",
   "execution_count": 3,
   "id": "5324cac0-d4d4-4738-bea2-7ff0080798c7",
   "metadata": {
    "id": "5324cac0-d4d4-4738-bea2-7ff0080798c7",
    "tags": []
   },
   "outputs": [],
   "source": [
    "# Folders\n",
    "train_FAKE_folder_path = \"C:/Users/tan_l/Workspace/Training/FAKE\"\n",
    "train_REAL_folder_path = \"C:/Users/tan_l/Workspace/Training/REAL\"\n",
    "\n",
    "test_FAKE_folder_path = \"C:/Users/tan_l/Workspace/val/ai\"\n",
    "test_REAL_folder_path = \"C:/Users/tan_l/Workspace/val/nature\""
   ]
  },
  {
   "cell_type": "markdown",
   "id": "87c797b9-4410-410b-b94e-cf3be1f4dd6b",
   "metadata": {
    "id": "87c797b9-4410-410b-b94e-cf3be1f4dd6b"
   },
   "source": [
    "## Prepare TRAIN and TEST Tensor dataset (Let label for Real be 1 and label for Fake be 0)"
   ]
  },
  {
   "cell_type": "code",
   "execution_count": 4,
   "id": "f0c6899c-c9db-42dc-a9e0-1065ae444c93",
   "metadata": {
    "id": "f0c6899c-c9db-42dc-a9e0-1065ae444c93",
    "tags": []
   },
   "outputs": [],
   "source": [
    "def ignore_alpha(image):\n",
    "    if image.mode == 'RGBA':\n",
    "        r, g, b, _ = image.split()\n",
    "        return PIL.Image.merge(\"RGB\", (r, g, b))\n",
    "    elif image.mode == 'RGB':\n",
    "        return image\n",
    "    else:\n",
    "        return image.convert(\"RGB\")\n",
    "\n",
    "transform_train_V1 = transforms.Compose([\n",
    "    ignore_alpha,\n",
    "    transforms.Resize((224,224)),\n",
    "    transforms.CenterCrop((224,224)),\n",
    "    transforms.RandomHorizontalFlip(), # To introduce image orientation variation\n",
    "    transforms.ToTensor(),\n",
    "    transforms.Normalize((0.485, 0.456, 0.406), (0.229, 0.224, 0.225))\n",
    "\n",
    "])\n",
    "\n",
    "transform_test_V1 = transforms.Compose([\n",
    "    ignore_alpha,\n",
    "    transforms.Resize((224, 224)),\n",
    "    transforms.CenterCrop((224,224)),\n",
    "    transforms.ToTensor(),\n",
    "    transforms.Normalize((0.485, 0.456, 0.406), (0.229, 0.224, 0.225))\n",
    "])\n",
    "\n"
   ]
  },
  {
   "cell_type": "code",
   "execution_count": 5,
   "id": "2d5e446e-6c59-448c-a7a5-981331907437",
   "metadata": {
    "id": "2d5e446e-6c59-448c-a7a5-981331907437",
    "tags": []
   },
   "outputs": [],
   "source": [
    "train_tensor_list =[]\n",
    "#Format = list of tuples with each tuple in this format ((tensor version of image), label)\n",
    "\n",
    "# FAKE portion\n",
    "for images in os.listdir(train_FAKE_folder_path):\n",
    "    # print(images)\n",
    "    # if images.endswith(\".png\"):\n",
    "    img = PIL.Image.open(f\"{train_FAKE_folder_path}/%s\" % images)\n",
    "    # train_tensor_list.append(transform_train_V1(img))\n",
    "    train_tensor_list.append((transform_train_V1(img), 0))\n",
    "# REAL portion\n",
    "for images in os.listdir(train_REAL_folder_path):\n",
    "    # if images.endswith(\".png\"):\n",
    "    img = PIL.Image.open(f\"{train_REAL_folder_path}/%s\" % images)\n",
    "    # train_tensor_list.append(transform_train_V1(img))\n",
    "    train_tensor_list.append((transform_train_V1(img), 1))\n",
    "\n"
   ]
  },
  {
   "cell_type": "code",
   "execution_count": 6,
   "id": "3ed01871-79f8-4362-857e-d3484c27c429",
   "metadata": {
    "id": "3ed01871-79f8-4362-857e-d3484c27c429",
    "tags": []
   },
   "outputs": [],
   "source": [
    "test_tensor_list =[]\n",
    "#Format = list of tuples with each tuple in this format ((tensor version of image), label)\n",
    "\n",
    "# FAKE portion\n",
    "for images in os.listdir(test_FAKE_folder_path):\n",
    "    # print(images)\n",
    "    img = PIL.Image.open(f\"{test_FAKE_folder_path}/%s\" % images)\n",
    "    # test_tensor_list.append(transform_test_V1(img))\n",
    "    test_tensor_list.append((transform_test_V1(img),0))\n",
    "# REAL portion\n",
    "\n",
    "for images in os.listdir(test_REAL_folder_path):\n",
    "    # print(images)\n",
    "    img = PIL.Image.open(f\"{test_REAL_folder_path}/%s\" % images)\n",
    "    # test_tensor_list.append(transform_test_V1(img))\n",
    "    test_tensor_list.append((transform_test_V1(img),1))\n"
   ]
  },
  {
   "cell_type": "code",
   "execution_count": 7,
   "id": "e8c2866e-cd19-4145-8683-f2d90bb31d65",
   "metadata": {
    "colab": {
     "base_uri": "https://localhost:8080/"
    },
    "executionInfo": {
     "elapsed": 27,
     "status": "ok",
     "timestamp": 1712901720477,
     "user": {
      "displayName": "이영호",
      "userId": "06481768961653680184"
     },
     "user_tz": -480
    },
    "id": "e8c2866e-cd19-4145-8683-f2d90bb31d65",
    "outputId": "c89a0ad7-408c-4e83-f488-5e1163c19af8"
   },
   "outputs": [
    {
     "name": "stdout",
     "output_type": "stream",
     "text": [
      "33000\n",
      "12000\n"
     ]
    }
   ],
   "source": [
    "print(len(train_tensor_list))\n",
    "print(len(test_tensor_list))"
   ]
  },
  {
   "cell_type": "code",
   "execution_count": 8,
   "id": "57bbfdd2-de16-4f98-a203-b58378525dcb",
   "metadata": {
    "colab": {
     "base_uri": "https://localhost:8080/"
    },
    "executionInfo": {
     "elapsed": 11,
     "status": "ok",
     "timestamp": 1712901720481,
     "user": {
      "displayName": "이영호",
      "userId": "06481768961653680184"
     },
     "user_tz": -480
    },
    "id": "57bbfdd2-de16-4f98-a203-b58378525dcb",
    "outputId": "35854b70-5dae-4397-84fd-448a61790e6a",
    "tags": []
   },
   "outputs": [
    {
     "name": "stdout",
     "output_type": "stream",
     "text": [
      "Shape of X [N, C, H, W]: torch.Size([128, 3, 224, 224])\n",
      "Shape of y: torch.Size([128]) torch.int64\n"
     ]
    }
   ],
   "source": [
    "## LOAD DATA to trainloader and testloader\n",
    "\n",
    "trainloader = torch.utils.data.DataLoader(train_tensor_list, batch_size=128, shuffle=True, num_workers=2)\n",
    "\n",
    "testloader = torch.utils.data.DataLoader(test_tensor_list, batch_size=128,shuffle=False, num_workers=2)\n",
    "\n",
    "for X, y in trainloader:\n",
    "    print(f\"Shape of X [N, C, H, W]: {X.shape}\")\n",
    "    print(f\"Shape of y: {y.shape} {y.dtype}\")\n",
    "    break"
   ]
  },
  {
   "cell_type": "markdown",
   "id": "8d8c82fa-8cdc-43ad-985f-a57c03f62ffb",
   "metadata": {
    "id": "8d8c82fa-8cdc-43ad-985f-a57c03f62ffb"
   },
   "source": [
    "### VGG Model"
   ]
  },
  {
   "cell_type": "code",
   "execution_count": 9,
   "id": "cd115c53-996a-464f-82a8-19390dd3b41e",
   "metadata": {
    "colab": {
     "base_uri": "https://localhost:8080/"
    },
    "executionInfo": {
     "elapsed": 11973,
     "status": "ok",
     "timestamp": 1712901732446,
     "user": {
      "displayName": "이영호",
      "userId": "06481768961653680184"
     },
     "user_tz": -480
    },
    "id": "cd115c53-996a-464f-82a8-19390dd3b41e",
    "outputId": "1724e3cf-574d-42f0-fb02-25aecfcc0d1d",
    "tags": []
   },
   "outputs": [
    {
     "name": "stdout",
     "output_type": "stream",
     "text": [
      "Using cuda device\n"
     ]
    },
    {
     "name": "stderr",
     "output_type": "stream",
     "text": [
      "Using cache found in C:\\Users\\tan_l/.cache\\torch\\hub\\pytorch_vision_v0.10.0\n",
      "C:\\Users\\tan_l\\anaconda3\\Lib\\site-packages\\torchvision\\models\\_utils.py:208: UserWarning: The parameter 'pretrained' is deprecated since 0.13 and may be removed in the future, please use 'weights' instead.\n",
      "  warnings.warn(\n",
      "C:\\Users\\tan_l\\anaconda3\\Lib\\site-packages\\torchvision\\models\\_utils.py:223: UserWarning: Arguments other than a weight enum or `None` for 'weights' are deprecated since 0.13 and may be removed in the future. The current behavior is equivalent to passing `weights=VGG16_Weights.IMAGENET1K_V1`. You can also use `weights=VGG16_Weights.DEFAULT` to get the most up-to-date weights.\n",
      "  warnings.warn(msg)\n"
     ]
    }
   ],
   "source": [
    "import torch\n",
    "\n",
    "# input_batch = torch.stack(train_tensor_list)\n",
    "# print(input_batch)\n",
    "\n",
    "device = (\n",
    "    \"cuda\"\n",
    "    if torch.cuda.is_available()\n",
    "    else \"mps\"\n",
    "    if torch.backends.mps.is_available()\n",
    "    else \"cpu\"\n",
    ")\n",
    "print(f\"Using {device} device\")\n",
    "\n",
    "# model = torch.hub.load('pytorch/vision:v0.10.0', 'densenet121', pretrained=True)\n",
    "# or any of these variants\n",
    "# model = torch.hub.load('pytorch/vision:v0.10.0', 'densenet169', pretrained=True)\n",
    "# model = torch.hub.load('pytorch/vision:v0.10.0', 'densenet201', pretrained=True)\n",
    "# model = torch.hub.load('pytorch/vision:v0.10.0', 'densenet161', pretrained=True)\n",
    "\n",
    "# model = torch.hub.load('pytorch/vision:v0.10.0', 'vgg11', pretrained=True)\n",
    "# model = torch.hub.load('pytorch/vision:v0.10.0', 'vgg11_bn', pretrained=True)\n",
    "# model = torch.hub.load('pytorch/vision:v0.10.0', 'vgg13', pretrained=True)\n",
    "# model = torch.hub.load('pytorch/vision:v0.10.0', 'vgg13_bn', pretrained=True)\n",
    "model = torch.hub.load('pytorch/vision:v0.10.0', 'vgg16', pretrained=True)\n",
    "# model = torch.hub.load('pytorch/vision:v0.10.0', 'vgg16_bn', pretrained=True)\n",
    "# model = torch.hub.load('pytorch/vision:v0.10.0', 'vgg19', pretrained=True)\n",
    "# model = torch.hub.load('pytorch/vision:v0.10.0', 'vgg19_bn', pretrained=True)\n",
    "\n",
    "model.eval()\n",
    "\n",
    "if torch.cuda.is_available():\n",
    "    model.cuda()\n",
    "\n",
    "loss_fn = nn.CrossEntropyLoss()\n",
    "optimizer = torch.optim.SGD(model.parameters(), lr=1e-3)\n",
    "\n",
    "# with torch.no_grad():\n",
    "#     output = model(input_batch)\n",
    "# # Tensor of shape 1000, with confidence scores over ImageNet's 1000 classes\n",
    "# print(output[0])\n",
    "# # The output has unnormalized scores. To get probabilities, you can run a softmax on it.\n",
    "# probabilities = torch.nn.functional.softmax(output[0], dim=0)\n",
    "# print(probabilities)"
   ]
  },
  {
   "cell_type": "code",
   "execution_count": 10,
   "id": "4d4abccd-0fe1-4375-a6a0-198e878ebc00",
   "metadata": {
    "id": "4d4abccd-0fe1-4375-a6a0-198e878ebc00"
   },
   "outputs": [],
   "source": [
    "loss_fn = nn.CrossEntropyLoss()\n",
    "optimizer = torch.optim.SGD(model.parameters(), lr=1e-3)\n",
    "\n",
    "def train(dataloader, model, loss_fn, optimizer):\n",
    "    size = len(dataloader.dataset)\n",
    "    model.train()\n",
    "    for batch, (X, y) in enumerate(dataloader):\n",
    "        X, y = X.to(device), y.to(device)\n",
    "\n",
    "        # Compute prediction error\n",
    "        pred = model(X)\n",
    "        loss = loss_fn(pred, y)\n",
    "\n",
    "        # Backpropagation\n",
    "        loss.backward()\n",
    "        optimizer.step()\n",
    "        optimizer.zero_grad()\n",
    "\n",
    "        if batch % 100 == 0:\n",
    "            loss, current = loss.item(), (batch + 1) * len(X)\n",
    "            print(f\"loss: {loss:>7f}  [{current:>5d}/{size:>5d}]\")\n",
    "\n",
    "def test(dataloader, model, loss_fn):\n",
    "    size = len(dataloader.dataset)\n",
    "    num_batches = len(dataloader)\n",
    "    model.eval()\n",
    "    test_loss, correct = 0, 0\n",
    "    with torch.no_grad():\n",
    "        for X, y in dataloader:\n",
    "            X, y = X.to(device), y.to(device)\n",
    "            pred = model(X)\n",
    "            test_loss += loss_fn(pred, y).item()\n",
    "            correct += (pred.argmax(1) == y).type(torch.float).sum().item()\n",
    "    test_loss /= num_batches\n",
    "    correct /= size\n",
    "    print(f\"Test Error: \\n Accuracy: {(100*correct):>0.1f}%, Avg loss: {test_loss:>8f} \\n\")"
   ]
  },
  {
   "cell_type": "code",
   "execution_count": 11,
   "id": "0de8c8c5-3123-46d2-bf83-418bc1080804",
   "metadata": {
    "colab": {
     "base_uri": "https://localhost:8080/",
     "height": 634
    },
    "executionInfo": {
     "elapsed": 852614,
     "status": "error",
     "timestamp": 1712902585047,
     "user": {
      "displayName": "이영호",
      "userId": "06481768961653680184"
     },
     "user_tz": -480
    },
    "id": "0de8c8c5-3123-46d2-bf83-418bc1080804",
    "outputId": "e50a40aa-e3be-4c90-891e-d4a19e42c89d"
   },
   "outputs": [
    {
     "name": "stdout",
     "output_type": "stream",
     "text": [
      "Started: 2024-04-13 08:37:46.172476\n",
      "Epoch 1\n",
      "-------------------------------\n",
      "loss: 19.411423  [  128/33000]\n",
      "loss: 0.153171  [12928/33000]\n",
      "loss: 0.113866  [25728/33000]\n",
      "Test Error: \n",
      " Accuracy: 95.4%, Avg loss: 0.126527 \n",
      "\n",
      "Epoch 2\n",
      "-------------------------------\n",
      "loss: 0.188270  [  128/33000]\n",
      "loss: 0.154162  [12928/33000]\n",
      "loss: 0.089137  [25728/33000]\n",
      "Test Error: \n",
      " Accuracy: 99.0%, Avg loss: 0.038678 \n",
      "\n",
      "Epoch 3\n",
      "-------------------------------\n",
      "loss: 0.087071  [  128/33000]\n",
      "loss: 0.043407  [12928/33000]\n",
      "loss: 0.020360  [25728/33000]\n",
      "Test Error: \n",
      " Accuracy: 99.3%, Avg loss: 0.027546 \n",
      "\n",
      "Epoch 4\n",
      "-------------------------------\n",
      "loss: 0.093831  [  128/33000]\n",
      "loss: 0.102331  [12928/33000]\n",
      "loss: 0.046656  [25728/33000]\n",
      "Test Error: \n",
      " Accuracy: 99.4%, Avg loss: 0.024062 \n",
      "\n",
      "Epoch 5\n",
      "-------------------------------\n",
      "loss: 0.053743  [  128/33000]\n",
      "loss: 0.029812  [12928/33000]\n",
      "loss: 0.056721  [25728/33000]\n",
      "Test Error: \n",
      " Accuracy: 99.5%, Avg loss: 0.020665 \n",
      "\n",
      "Epoch 6\n",
      "-------------------------------\n",
      "loss: 0.045512  [  128/33000]\n",
      "loss: 0.079111  [12928/33000]\n",
      "loss: 0.033752  [25728/33000]\n",
      "Test Error: \n",
      " Accuracy: 99.5%, Avg loss: 0.019055 \n",
      "\n",
      "Epoch 7\n",
      "-------------------------------\n",
      "loss: 0.063724  [  128/33000]\n",
      "loss: 0.048878  [12928/33000]\n",
      "loss: 0.006359  [25728/33000]\n",
      "Test Error: \n",
      " Accuracy: 99.6%, Avg loss: 0.015950 \n",
      "\n",
      "Epoch 8\n",
      "-------------------------------\n",
      "loss: 0.006384  [  128/33000]\n",
      "loss: 0.010047  [12928/33000]\n",
      "loss: 0.014599  [25728/33000]\n",
      "Test Error: \n",
      " Accuracy: 99.6%, Avg loss: 0.013961 \n",
      "\n",
      "Epoch 9\n",
      "-------------------------------\n",
      "loss: 0.005694  [  128/33000]\n",
      "loss: 0.020732  [12928/33000]\n",
      "loss: 0.040161  [25728/33000]\n",
      "Test Error: \n",
      " Accuracy: 99.6%, Avg loss: 0.011791 \n",
      "\n",
      "Epoch 10\n",
      "-------------------------------\n",
      "loss: 0.001583  [  128/33000]\n",
      "loss: 0.006552  [12928/33000]\n",
      "loss: 0.008471  [25728/33000]\n",
      "Test Error: \n",
      " Accuracy: 99.5%, Avg loss: 0.015978 \n",
      "\n",
      "Done!\n"
     ]
    }
   ],
   "source": [
    "epochs = 10\n",
    "print(\"Started:\", datetime.now())\n",
    "for t in range(epochs):\n",
    "    print(f\"Epoch {t+1}\\n-------------------------------\")\n",
    "    train(trainloader, model, loss_fn, optimizer)\n",
    "    test(testloader, model, loss_fn)\n",
    "print(\"Done!\")"
   ]
  },
  {
   "cell_type": "code",
   "execution_count": 12,
   "id": "14470e44-b8a2-409f-833f-0778a2b9c353",
   "metadata": {
    "id": "14470e44-b8a2-409f-833f-0778a2b9c353"
   },
   "outputs": [
    {
     "name": "stdout",
     "output_type": "stream",
     "text": [
      "Finished: 2024-04-14 02:00:22.158628\n",
      "Saved PyTorch Model State to model.pth\n"
     ]
    }
   ],
   "source": [
    "# Save model\n",
    "\n",
    "print(\"Finished:\", datetime.now())\n",
    "torch.save(model.state_dict(), \"model_VGG16_bigGAN_subsampled.pth\")\n",
    "print(\"Saved PyTorch Model State to model.pth\")"
   ]
  },
  {
   "cell_type": "code",
   "execution_count": null,
   "id": "4e5b74b6-6dad-4f03-9709-01362aa6f536",
   "metadata": {
    "id": "4e5b74b6-6dad-4f03-9709-01362aa6f536"
   },
   "outputs": [],
   "source": []
  }
 ],
 "metadata": {
  "colab": {
   "machine_shape": "hm",
   "provenance": []
  },
  "kernelspec": {
   "display_name": "Python 3 (ipykernel)",
   "language": "python",
   "name": "python3"
  },
  "language_info": {
   "codemirror_mode": {
    "name": "ipython",
    "version": 3
   },
   "file_extension": ".py",
   "mimetype": "text/x-python",
   "name": "python",
   "nbconvert_exporter": "python",
   "pygments_lexer": "ipython3",
   "version": "3.11.7"
  }
 },
 "nbformat": 4,
 "nbformat_minor": 5
}
